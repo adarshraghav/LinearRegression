{
 "cells": [
  {
   "cell_type": "code",
   "execution_count": 1,
   "metadata": {},
   "outputs": [],
   "source": [
    "import numpy as np\n",
    "X = 2*np.random.rand(100, 1)\n",
    "y = 4 + 3 * X + np.random.randn(100,1)"
   ]
  },
  {
   "cell_type": "code",
   "execution_count": 6,
   "metadata": {},
   "outputs": [
    {
     "data": {
      "text/plain": [
       "<matplotlib.collections.PathCollection at 0x7fd3b8e4d4f0>"
      ]
     },
     "execution_count": 6,
     "metadata": {},
     "output_type": "execute_result"
    },
    {
     "data": {
      "image/png": "[encoded data removed]",
      "text/plain": [
       "<Figure size 432x288 with 1 Axes>"
      ]
     },
     "metadata": {
      "needs_background": "light"
     },
     "output_type": "display_data"
    }
   ],
   "source": [
    "import matplotlib.pyplot as plt\n",
    "plt.scatter(X,y)"
   ]
  },
  {
   "cell_type": "code",
   "execution_count": 8,
   "metadata": {},
   "outputs": [
    {
     "name": "stdout",
     "output_type": "stream",
     "text": [
      "[[1.         1.80153843]\n",
      " [1.         1.76776172]\n",
      " [1.         0.53991684]\n",
      " [1.         1.46008388]\n",
      " [1.         0.29899793]\n",
      " [1.         0.11122503]\n",
      " [1.         0.62673058]\n",
      " [1.         0.5831094 ]\n",
      " [1.         1.83702061]\n",
      " [1.         0.1829576 ]\n",
      " [1.         1.24392284]\n",
      " [1.         0.04765381]\n",
      " [1.         1.1111076 ]\n",
      " [1.         0.12290523]\n",
      " [1.         1.07037109]\n",
      " [1.         1.58821814]\n",
      " [1.         0.17391161]\n",
      " [1.         0.32137181]\n",
      " [1.         0.16216369]\n",
      " [1.         1.22269473]\n",
      " [1.         0.12904614]\n",
      " [1.         1.95247749]\n",
      " [1.         0.24685958]\n",
      " [1.         1.7312405 ]\n",
      " [1.         1.71338613]\n",
      " [1.         0.40498206]\n",
      " [1.         0.48318134]\n",
      " [1.         1.20919006]\n",
      " [1.         1.18464507]\n",
      " [1.         1.39216829]\n",
      " [1.         0.6441476 ]\n",
      " [1.         1.11616683]\n",
      " [1.         0.67588142]\n",
      " [1.         0.73555535]\n",
      " [1.         0.85988942]\n",
      " [1.         0.54999184]\n",
      " [1.         1.51038535]\n",
      " [1.         0.05823846]\n",
      " [1.         1.06610046]\n",
      " [1.         0.09615765]\n",
      " [1.         1.67051598]\n",
      " [1.         0.23169208]\n",
      " [1.         1.43150489]\n",
      " [1.         1.10559391]\n",
      " [1.         1.85125452]\n",
      " [1.         0.9939662 ]\n",
      " [1.         0.53071851]\n",
      " [1.         1.119039  ]\n",
      " [1.         0.13138552]\n",
      " [1.         0.12637138]\n",
      " [1.         0.3719891 ]\n",
      " [1.         0.74341288]\n",
      " [1.         0.09120964]\n",
      " [1.         1.59700246]\n",
      " [1.         1.1079538 ]\n",
      " [1.         0.8979207 ]\n",
      " [1.         0.06654295]\n",
      " [1.         1.67234246]\n",
      " [1.         0.86075722]\n",
      " [1.         1.15395465]\n",
      " [1.         1.44016018]\n",
      " [1.         0.96068123]\n",
      " [1.         1.33351173]\n",
      " [1.         1.42437733]\n",
      " [1.         0.50088708]\n",
      " [1.         1.11704169]\n",
      " [1.         1.20167023]\n",
      " [1.         1.99706978]\n",
      " [1.         0.19396575]\n",
      " [1.         0.51350015]\n",
      " [1.         1.2205653 ]\n",
      " [1.         0.60512699]\n",
      " [1.         0.42542924]\n",
      " [1.         1.24554484]\n",
      " [1.         0.55388909]\n",
      " [1.         0.29766809]\n",
      " [1.         1.59234483]\n",
      " [1.         0.54207392]\n",
      " [1.         1.36893171]\n",
      " [1.         1.22838721]\n",
      " [1.         0.67488619]\n",
      " [1.         0.34017696]\n",
      " [1.         1.88935082]\n",
      " [1.         1.94733333]\n",
      " [1.         1.09951283]\n",
      " [1.         0.83637063]\n",
      " [1.         1.10079489]\n",
      " [1.         0.73100002]\n",
      " [1.         1.284492  ]\n",
      " [1.         0.0439685 ]\n",
      " [1.         1.43198527]\n",
      " [1.         1.29870999]\n",
      " [1.         0.28761691]\n",
      " [1.         0.39134612]\n",
      " [1.         0.71198625]\n",
      " [1.         0.95556281]\n",
      " [1.         1.75613298]\n",
      " [1.         0.09015447]\n",
      " [1.         1.96381191]\n",
      " [1.         1.5830483 ]]\n"
     ]
    }
   ],
   "source": [
    "X_b = np.c_[np.ones((100, 1)), X] #this is the bias\n",
    "theta_best = np.linalg.inv(X_b.T.dot(X_b))"
   ]
  },
  {
   "cell_type": "code",
   "execution_count": null,
   "metadata": {},
   "outputs": [],
   "source": []
  }
 ],
 "metadata": {
  "kernelspec": {
   "display_name": "Python 3",
   "language": "python",
   "name": "python3"
  },
  "language_info": {
   "codemirror_mode": {
    "name": "ipython",
    "version": 3
   },
   "file_extension": ".py",
   "mimetype": "text/x-python",
   "name": "python",
   "nbconvert_exporter": "python",
   "pygments_lexer": "ipython3",
   "version": "3.8.5"
  }
 },
 "nbformat": 4,
 "nbformat_minor": 4
}
